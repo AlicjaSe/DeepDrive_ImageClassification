{
 "cells": [
  {
   "cell_type": "markdown",
   "metadata": {},
   "source": [
    "# DDPLKO Moduł 7 - praca domowa - HPO\n",
    "\n",
    "To siódma praca domowa w Programie szkoleniowym Klasyfikacja obrazu od Deep Drive PL\n",
    "\n",
    "Twoim zadaniem w tym module będzie jendo z 2:\n",
    "\n",
    "Opcja 1:\n",
    "- [ ] Na bazie pracy domowej z Transfer learningiem, data augmentation\n",
    "- [ ] Wykorzystaj HPO (np. Optunę, Hyperopta bądź KerasTuner) by dobrać parametry treningu (optymalizator, LR), data augmentation (zakresy wartości)\n",
    "- [ ] Udostępnij wykres na Discordzie `#klasyfikacja-wyniki` (val acc - porównanie model przed i po HPO)\n",
    "\n",
    "Opcja 2 (mniejsza moc obliczeniowa):\n",
    "- [ ] Na bazie pracy domowej ze zbiorem **QuickDraw**\n",
    "- [ ] Wykorzystaj HPO (np. Optunę, Hyperopta bądź KerasTuner) by dobrać parametry treningu (optymalizator, LR), i architektury sieci (liczba warstw, dropout, pooling)\n",
    "- [ ] Pracuj na podzbiorze max 100k przykładów\n",
    "- [ ] Udostępnij wykres na Discordzie `#klasyfikacja-wyniki` (val acc - porównanie model przed i po HPO)\n",
    "\n",
    "Możesz extra (czyli opcjonalne rzeczy):\n",
    "- Spróbować użyć AutoKeras by znaleźć architekturę dla problemu"
   ]
  },
  {
   "cell_type": "code",
   "execution_count": 3,
   "metadata": {},
   "outputs": [],
   "source": [
    "import tensorflow as tf\n",
    "import matplotlib.pyplot as plt\n",
    "import numpy as np\n",
    "\n",
    "import seaborn as sns\n",
    "sns.set(style='whitegrid',font_scale=1.5)\n",
    "\n",
    "from keras_tuner import RandomSearch\n",
    "\n",
    "for gpu in tf.config.list_physical_devices('GPU'):\n",
    "    tf.config.experimental.set_memory_growth(gpu, True)"
   ]
  },
  {
   "cell_type": "code",
   "execution_count": 4,
   "metadata": {},
   "outputs": [],
   "source": [
    "import tensorflow_datasets as tfds"
   ]
  },
  {
   "cell_type": "code",
   "execution_count": 5,
   "metadata": {},
   "outputs": [
    {
     "name": "stdout",
     "output_type": "stream",
     "text": [
      "Train: 22050\n",
      "Val: 9450\n"
     ]
    }
   ],
   "source": [
    "(ds_train, ds_val),info = tfds.load(\n",
    "    \"resisc45\",\n",
    "    split=[\"train[:70%]\", \"train[70%:100%]\"],\n",
    "    as_supervised=True,  # Include labels\n",
    "    with_info=True\n",
    ")\n",
    "\n",
    "print('Train:',len(ds_train))\n",
    "print('Val:',len(ds_val))"
   ]
  },
  {
   "cell_type": "code",
   "execution_count": 6,
   "metadata": {},
   "outputs": [],
   "source": [
    "img_size = 256\n",
    "batch_size=32\n",
    "\n",
    "size = (img_size, img_size)\n",
    "\n",
    "ds_train = ds_train.map(lambda image, label: (tf.image.resize(image, size), label))\n",
    "ds_train = ds_train.batch(batch_size=batch_size, drop_remainder=True)\n",
    "ds_train = ds_train.prefetch(tf.data.AUTOTUNE)\n",
    "\n",
    "ds_val = ds_val.map(lambda image, label: (tf.image.resize(image, size), label))\n",
    "ds_val = ds_val.batch(batch_size=batch_size, drop_remainder=True)"
   ]
  },
  {
   "cell_type": "code",
   "execution_count": 7,
   "metadata": {},
   "outputs": [
    {
     "data": {
      "text/plain": [
       "45"
      ]
     },
     "execution_count": 7,
     "metadata": {},
     "output_type": "execute_result"
    }
   ],
   "source": [
    "class_names = info.features['label'].names\n",
    "\n",
    "num_classes = len(class_names)\n",
    "num_classes"
   ]
  },
  {
   "cell_type": "markdown",
   "metadata": {},
   "source": [
    "# HPO"
   ]
  },
  {
   "cell_type": "code",
   "execution_count": 7,
   "metadata": {},
   "outputs": [],
   "source": [
    "#from keras_tuner import RandomSearch\n",
    "\n",
    "def getModel(hp):\n",
    "          \n",
    "    l2=tf.keras.regularizers.l2(hp.Float('L2', 1e-8, 0.01, sampling='log'))\n",
    "    l =[tf.keras.layers.Conv2D(8,(3,3), padding='same', activation='relu',\n",
    "                               kernel_regularizer=l2, input_shape=(img_size, img_size, 3)),]\n",
    "    pooling = hp.Int('avg_pooling',0,2)\n",
    "    bn=hp.Int('BN',0,2)\n",
    "    \n",
    "    if bn>0:\n",
    "        l.append(tf.keras.layers.BatchNormalization())\n",
    "    for i in range(hp.Int('convs',0,3)):\n",
    "        if pooling==1:\n",
    "            l.append(tf.keras.layers.AvgPool2D())\n",
    "        if pooling==2:\n",
    "            l.append(tf.keras.layers.MaxPool2D())\n",
    "        l.append(tf.keras.layers.Conv2D(2**(5+i),(3,3), padding='same', activation='relu',\n",
    "                        kernel_regularizer=l2))\n",
    "    if bn==2:\n",
    "        l.append(tf.keras.layers.BatchNormalization())\n",
    "    l.append(tf.keras.layers.GlobalAveragePooling2D())\n",
    "    l.append(tf.keras.layers.Dropout(hp.Float('dropout',0,0.9)))\n",
    "    l.append(tf.keras.layers.Dense(num_classes, activation='softmax'))\n",
    "    \n",
    "    model = tf.keras.models.Sequential(l)\n",
    "    model.compile(optimizer=tf.keras.optimizers.Adam(hp.Float('lr',0.00001, 0.1, sampling='log')),\n",
    "                  loss='sparse_categorical_crossentropy',\n",
    "                  metrics=['accuracy'])\n",
    "    return model"
   ]
  },
  {
   "cell_type": "code",
   "execution_count": 8,
   "metadata": {},
   "outputs": [],
   "source": [
    "tuner =RandomSearch(getModel,\n",
    "                    objective=\"val_accuracy\",\n",
    "                    max_trials=50,\n",
    "                    executions_per_trial=1,  # Uśrednianie wyników\n",
    "                    overwrite=True,\n",
    "                    directory=\"keras-tuner-logs\",\n",
    "                    project_name=\"resisc45\")"
   ]
  },
  {
   "cell_type": "code",
   "execution_count": 9,
   "metadata": {},
   "outputs": [
    {
     "name": "stdout",
     "output_type": "stream",
     "text": [
      "Search space summary\n",
      "Default search space size: 6\n",
      "L2 (Float)\n",
      "{'default': 1e-08, 'conditions': [], 'min_value': 1e-08, 'max_value': 0.01, 'step': None, 'sampling': 'log'}\n",
      "avg_pooling (Int)\n",
      "{'default': None, 'conditions': [], 'min_value': 0, 'max_value': 2, 'step': 1, 'sampling': None}\n",
      "BN (Int)\n",
      "{'default': None, 'conditions': [], 'min_value': 0, 'max_value': 2, 'step': 1, 'sampling': None}\n",
      "convs (Int)\n",
      "{'default': None, 'conditions': [], 'min_value': 0, 'max_value': 3, 'step': 1, 'sampling': None}\n",
      "dropout (Float)\n",
      "{'default': 0.0, 'conditions': [], 'min_value': 0.0, 'max_value': 0.9, 'step': None, 'sampling': None}\n",
      "lr (Float)\n",
      "{'default': 1e-05, 'conditions': [], 'min_value': 1e-05, 'max_value': 0.1, 'step': None, 'sampling': 'log'}\n"
     ]
    }
   ],
   "source": [
    "tuner.search_space_summary()"
   ]
  },
  {
   "cell_type": "code",
   "execution_count": 1,
   "metadata": {},
   "outputs": [],
   "source": [
    "from torch.utils import tensorboard"
   ]
  },
  {
   "cell_type": "code",
   "execution_count": 2,
   "metadata": {},
   "outputs": [
    {
     "data": {
      "text/html": [
       "\n",
       "      <iframe id=\"tensorboard-frame-6bd6510d017957ff\" width=\"100%\" height=\"800\" frameborder=\"0\">\n",
       "      </iframe>\n",
       "      <script>\n",
       "        (function() {\n",
       "          const frame = document.getElementById(\"tensorboard-frame-6bd6510d017957ff\");\n",
       "          const url = new URL(\"/\", window.location);\n",
       "          const port = 6001;\n",
       "          if (port) {\n",
       "            url.port = port;\n",
       "          }\n",
       "          frame.src = url;\n",
       "        })();\n",
       "      </script>\n",
       "    "
      ],
      "text/plain": [
       "<IPython.core.display.HTML object>"
      ]
     },
     "metadata": {},
     "output_type": "display_data"
    }
   ],
   "source": [
    "%reload_ext tensorboard\n",
    "%tensorboard --logdir keras-tuner-logs/tb-logs --port 6001"
   ]
  },
  {
   "cell_type": "code",
   "execution_count": 11,
   "metadata": {},
   "outputs": [
    {
     "name": "stdout",
     "output_type": "stream",
     "text": [
      "Trial 50 Complete [00h 15m 46s]\n",
      "val_accuracy: 0.19735169410705566\n",
      "\n",
      "Best val_accuracy So Far: 0.5086864233016968\n",
      "Total elapsed time: 15h 13m 45s\n",
      "INFO:tensorflow:Oracle triggered exit\n"
     ]
    },
    {
     "name": "stderr",
     "output_type": "stream",
     "text": [
      "INFO:tensorflow:Oracle triggered exit\n"
     ]
    }
   ],
   "source": [
    "tuner.search(ds_train, epochs=5, validation_data=(ds_val),\n",
    "            callbacks=[tf.keras.callbacks.TensorBoard(log_dir='keras-tuner-logs/tb-logs', write_graph=True)])"
   ]
  },
  {
   "cell_type": "code",
   "execution_count": 12,
   "metadata": {},
   "outputs": [],
   "source": [
    "models = tuner.get_best_models(num_models=2)"
   ]
  },
  {
   "cell_type": "code",
   "execution_count": 18,
   "metadata": {},
   "outputs": [
    {
     "name": "stdout",
     "output_type": "stream",
     "text": [
      "Model: \"sequential\"\n",
      "_________________________________________________________________\n",
      "Layer (type)                 Output Shape              Param #   \n",
      "=================================================================\n",
      "conv2d (Conv2D)              (None, 256, 256, 8)       224       \n",
      "_________________________________________________________________\n",
      "max_pooling2d (MaxPooling2D) (None, 128, 128, 8)       0         \n",
      "_________________________________________________________________\n",
      "conv2d_1 (Conv2D)            (None, 128, 128, 32)      2336      \n",
      "_________________________________________________________________\n",
      "max_pooling2d_1 (MaxPooling2 (None, 64, 64, 32)        0         \n",
      "_________________________________________________________________\n",
      "conv2d_2 (Conv2D)            (None, 64, 64, 64)        18496     \n",
      "_________________________________________________________________\n",
      "max_pooling2d_2 (MaxPooling2 (None, 32, 32, 64)        0         \n",
      "_________________________________________________________________\n",
      "conv2d_3 (Conv2D)            (None, 32, 32, 128)       73856     \n",
      "_________________________________________________________________\n",
      "global_average_pooling2d (Gl (None, 128)               0         \n",
      "_________________________________________________________________\n",
      "dropout (Dropout)            (None, 128)               0         \n",
      "_________________________________________________________________\n",
      "dense (Dense)                (None, 45)                5805      \n",
      "=================================================================\n",
      "Total params: 100,717\n",
      "Trainable params: 100,717\n",
      "Non-trainable params: 0\n",
      "_________________________________________________________________\n"
     ]
    }
   ],
   "source": [
    "models[0].summary()"
   ]
  },
  {
   "cell_type": "code",
   "execution_count": 20,
   "metadata": {},
   "outputs": [
    {
     "name": "stdout",
     "output_type": "stream",
     "text": [
      "Model: \"sequential\"\n",
      "_________________________________________________________________\n",
      "Layer (type)                 Output Shape              Param #   \n",
      "=================================================================\n",
      "conv2d (Conv2D)              (None, 256, 256, 8)       224       \n",
      "_________________________________________________________________\n",
      "batch_normalization (BatchNo (None, 256, 256, 8)       32        \n",
      "_________________________________________________________________\n",
      "max_pooling2d (MaxPooling2D) (None, 128, 128, 8)       0         \n",
      "_________________________________________________________________\n",
      "conv2d_1 (Conv2D)            (None, 128, 128, 32)      2336      \n",
      "_________________________________________________________________\n",
      "max_pooling2d_1 (MaxPooling2 (None, 64, 64, 32)        0         \n",
      "_________________________________________________________________\n",
      "conv2d_2 (Conv2D)            (None, 64, 64, 64)        18496     \n",
      "_________________________________________________________________\n",
      "max_pooling2d_2 (MaxPooling2 (None, 32, 32, 64)        0         \n",
      "_________________________________________________________________\n",
      "conv2d_3 (Conv2D)            (None, 32, 32, 128)       73856     \n",
      "_________________________________________________________________\n",
      "batch_normalization_1 (Batch (None, 32, 32, 128)       512       \n",
      "_________________________________________________________________\n",
      "global_average_pooling2d (Gl (None, 128)               0         \n",
      "_________________________________________________________________\n",
      "dropout (Dropout)            (None, 128)               0         \n",
      "_________________________________________________________________\n",
      "dense (Dense)                (None, 45)                5805      \n",
      "=================================================================\n",
      "Total params: 101,261\n",
      "Trainable params: 100,989\n",
      "Non-trainable params: 272\n",
      "_________________________________________________________________\n"
     ]
    }
   ],
   "source": [
    "models[1].summary()"
   ]
  },
  {
   "cell_type": "code",
   "execution_count": 13,
   "metadata": {},
   "outputs": [
    {
     "name": "stdout",
     "output_type": "stream",
     "text": [
      "Results summary\n",
      "Results in keras-tuner-logs\\resisc45\n",
      "Showing 10 best trials\n",
      "Objective(name='val_accuracy', direction='max')\n",
      "Trial summary\n",
      "Hyperparameters:\n",
      "L2: 0.00017918884974343376\n",
      "avg_pooling: 2\n",
      "BN: 0\n",
      "convs: 3\n",
      "dropout: 0.2613001159883856\n",
      "lr: 0.0009565299993408537\n",
      "Score: 0.5086864233016968\n",
      "Trial summary\n",
      "Hyperparameters:\n",
      "L2: 3.527369611022989e-07\n",
      "avg_pooling: 2\n",
      "BN: 2\n",
      "convs: 3\n",
      "dropout: 0.23371613898713336\n",
      "lr: 0.019694598392422654\n",
      "Score: 0.4729872941970825\n",
      "Trial summary\n",
      "Hyperparameters:\n",
      "L2: 2.948952727746436e-08\n",
      "avg_pooling: 0\n",
      "BN: 0\n",
      "convs: 3\n",
      "dropout: 0.19902237187469532\n",
      "lr: 0.0007624095862106161\n",
      "Score: 0.4587923586368561\n",
      "Trial summary\n",
      "Hyperparameters:\n",
      "L2: 0.0018141319764431642\n",
      "avg_pooling: 2\n",
      "BN: 2\n",
      "convs: 2\n",
      "dropout: 0.09140271227428064\n",
      "lr: 0.001276169814305922\n",
      "Score: 0.45391950011253357\n",
      "Trial summary\n",
      "Hyperparameters:\n",
      "L2: 0.0008648864369572101\n",
      "avg_pooling: 2\n",
      "BN: 2\n",
      "convs: 3\n",
      "dropout: 0.3096988778747738\n",
      "lr: 0.00010862164139984054\n",
      "Score: 0.4486228823661804\n",
      "Trial summary\n",
      "Hyperparameters:\n",
      "L2: 0.00035190800912876893\n",
      "avg_pooling: 1\n",
      "BN: 0\n",
      "convs: 3\n",
      "dropout: 0.032824246196780774\n",
      "lr: 0.002098937036111372\n",
      "Score: 0.4486228823661804\n",
      "Trial summary\n",
      "Hyperparameters:\n",
      "L2: 3.201837597223642e-06\n",
      "avg_pooling: 1\n",
      "BN: 2\n",
      "convs: 2\n",
      "dropout: 0.5059794271550356\n",
      "lr: 0.0009486800151388745\n",
      "Score: 0.4360169470310211\n",
      "Trial summary\n",
      "Hyperparameters:\n",
      "L2: 7.564510281944739e-07\n",
      "avg_pooling: 1\n",
      "BN: 2\n",
      "convs: 2\n",
      "dropout: 0.014075595608769687\n",
      "lr: 0.016134304644371437\n",
      "Score: 0.43103814125061035\n",
      "Trial summary\n",
      "Hyperparameters:\n",
      "L2: 1.201294033365697e-06\n",
      "avg_pooling: 2\n",
      "BN: 2\n",
      "convs: 3\n",
      "dropout: 0.18934870539878504\n",
      "lr: 5.0784930723841774e-05\n",
      "Score: 0.4143008589744568\n",
      "Trial summary\n",
      "Hyperparameters:\n",
      "L2: 2.377159921341327e-06\n",
      "avg_pooling: 1\n",
      "BN: 2\n",
      "convs: 3\n",
      "dropout: 0.33674903311762394\n",
      "lr: 0.030570104596024866\n",
      "Score: 0.4039194881916046\n"
     ]
    }
   ],
   "source": [
    "tuner.results_summary()"
   ]
  }
 ],
 "metadata": {
  "kernelspec": {
   "display_name": "Python 3",
   "language": "python",
   "name": "python3"
  },
  "language_info": {
   "codemirror_mode": {
    "name": "ipython",
    "version": 3
   },
   "file_extension": ".py",
   "mimetype": "text/x-python",
   "name": "python",
   "nbconvert_exporter": "python",
   "pygments_lexer": "ipython3",
   "version": "3.8.8"
  }
 },
 "nbformat": 4,
 "nbformat_minor": 4
}
